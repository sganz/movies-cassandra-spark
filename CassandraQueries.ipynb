{
 "cells": [
  {
   "cell_type": "code",
   "execution_count": 1,
   "metadata": {},
   "outputs": [],
   "source": [
    "from pyspark.sql import SparkSession\n",
    "\n",
    "spark = SparkSession \\\n",
    "    .builder \\\n",
    "    .appName(\"Python Spark SQL basic example\") \\\n",
    "    .config(\"spark.jars.packages\", \"com.datastax.spark:spark-cassandra-connector_2.11:2.0.1\") \\\n",
    "    .getOrCreate()\n"
   ]
  },
  {
   "cell_type": "code",
   "execution_count": null,
   "metadata": {},
   "outputs": [],
   "source": []
  },
  {
   "cell_type": "code",
   "execution_count": 13,
   "metadata": {},
   "outputs": [],
   "source": [
    "load_options = { \"table\": \"unique_tags\", \"keyspace\": \"movies\", \"spark.cassandra.connection.host\": \"cassandra\"}\n",
    "tags = spark.read.format(\"org.apache.spark.sql.cassandra\").options(**load_options).load()\n",
    "tags.registerTempTable(\"tags\")\n",
    "load_options = { \"table\": \"ratings\", \"keyspace\": \"movies\", \"spark.cassandra.connection.host\": \"cassandra\"}\n",
    "ratings = spark.read.format(\"org.apache.spark.sql.cassandra\").options(**load_options).load()\n",
    "ratings.registerTempTable(\"ratings\")\n",
    "load_options = { \"table\": \"imdb_basics\", \"keyspace\": \"movies\", \"spark.cassandra.connection.host\": \"cassandra\"}\n",
    "imdb = spark.read.format(\"org.apache.spark.sql.cassandra\").options(**load_options).load()\n",
    "imdb.registerTempTable(\"imdb\")\n",
    "load_options = { \"table\": \"links\", \"keyspace\": \"movies\", \"spark.cassandra.connection.host\": \"cassandra\"}\n",
    "imdb = spark.read.format(\"org.apache.spark.sql.cassandra\").options(**load_options).load()\n",
    "imdb.registerTempTable(\"links\")\n",
    "\n",
    "\n"
   ]
  },
  {
   "cell_type": "markdown",
   "metadata": {},
   "source": [
    "### How many unique tags are there?"
   ]
  },
  {
   "cell_type": "code",
   "execution_count": 3,
   "metadata": {},
   "outputs": [
    {
     "name": "stdout",
     "output_type": "stream",
     "text": [
      "+-------------------+\n",
      "|count(DISTINCT tag)|\n",
      "+-------------------+\n",
      "|              38642|\n",
      "+-------------------+\n",
      "\n"
     ]
    }
   ],
   "source": [
    "spark.sql(\"\"\"\n",
    "SELECT count(DISTINCT tag)\n",
    "FROM tags\n",
    "\"\"\").show()"
   ]
  },
  {
   "cell_type": "markdown",
   "metadata": {},
   "source": [
    "### What is the average number of movies released in each year?"
   ]
  },
  {
   "cell_type": "code",
   "execution_count": 7,
   "metadata": {},
   "outputs": [
    {
     "name": "stdout",
     "output_type": "stream",
     "text": [
      "+---------+--------+\n",
      "|startYear|count(1)|\n",
      "+---------+--------+\n",
      "|   1988.0|   25883|\n",
      "|   1976.0|   19101|\n",
      "|   1951.0|    6333|\n",
      "|   1940.0|    2396|\n",
      "|   2024.0|       3|\n",
      "|   1928.0|    3065|\n",
      "|   1900.0|    1834|\n",
      "|   1979.0|   20033|\n",
      "|   1953.0|    7824|\n",
      "|   1913.0|    9562|\n",
      "|   1987.0|   26749|\n",
      "|   1909.0|    5420|\n",
      "|   1959.0|   13272|\n",
      "|   1934.0|    2701|\n",
      "|   1904.0|    1830|\n",
      "|   1978.0|   19401|\n",
      "|   1968.0|   18150|\n",
      "|   2010.0|  178865|\n",
      "|   2022.0|      25|\n",
      "|     null|  322109|\n",
      "+---------+--------+\n",
      "only showing top 20 rows\n",
      "\n"
     ]
    }
   ],
   "source": [
    "spark.sql(\"\"\"\n",
    "SELECT startYear, count(*)\n",
    "FROM imdb\n",
    "GROUP BY startYear\n",
    "\"\"\").show()"
   ]
  },
  {
   "cell_type": "markdown",
   "metadata": {},
   "source": [
    "### What is the variance in ratings for a single user?"
   ]
  },
  {
   "cell_type": "code",
   "execution_count": 5,
   "metadata": {},
   "outputs": [
    {
     "name": "stdout",
     "output_type": "stream",
     "text": [
      "+------------------+\n",
      "|  var_samp(rating)|\n",
      "+------------------+\n",
      "|0.2841954022988506|\n",
      "+------------------+\n",
      "\n"
     ]
    }
   ],
   "source": [
    "spark.sql(\"\"\"\n",
    "SELECT variance(rating)\n",
    "FROM ratings\n",
    "WHERE userid = 1535\n",
    "\"\"\").show()"
   ]
  },
  {
   "cell_type": "markdown",
   "metadata": {},
   "source": [
    "### How has the average rating of users changed over time?"
   ]
  },
  {
   "cell_type": "code",
   "execution_count": 27,
   "metadata": {},
   "outputs": [],
   "source": [
    "years = spark.sql(\"\"\"\n",
    "SELECT year, avg(rating) as avg_rating\n",
    "FROM (\n",
    "    SELECT cast(from_unixtime(timestamp, 'yyyy') as int) as year, rating\n",
    "    FROM ratings\n",
    ") GROUP BY year\n",
    "ORDER BY year ASC\n",
    "\"\"\").toPandas()"
   ]
  },
  {
   "cell_type": "code",
   "execution_count": 25,
   "metadata": {},
   "outputs": [],
   "source": [
    "from ggplot import *"
   ]
  },
  {
   "cell_type": "code",
   "execution_count": 28,
   "metadata": {},
   "outputs": [
    {
     "data": {
      "image/png": "[encoded data removed]",
      "text/plain": [
       "<matplotlib.figure.Figure at 0x7fe70bf846a0>"
      ]
     },
     "metadata": {},
     "output_type": "display_data"
    },
    {
     "data": {
      "text/plain": [
       "<ggplot: (8789394688299)>"
      ]
     },
     "execution_count": 28,
     "metadata": {},
     "output_type": "execute_result"
    }
   ],
   "source": [
    "ggplot(aes(x='year', y='avg_rating'), data=years) + geom_line()"
   ]
  },
  {
   "cell_type": "markdown",
   "metadata": {},
   "source": [
    "### What are the most popular words among all movie titles?"
   ]
  },
  {
   "cell_type": "code",
   "execution_count": 55,
   "metadata": {},
   "outputs": [
    {
     "name": "stdout",
     "output_type": "stream",
     "text": [
      "+----+-----+\n",
      "|word|c    |\n",
      "+----+-----+\n",
      "|The |59652|\n",
      "|of  |34710|\n",
      "|the |31330|\n",
      "|in  |10999|\n",
      "|A   |10567|\n",
      "|de  |10433|\n",
      "|and |10107|\n",
      "|a   |8945 |\n",
      "|to  |7894 |\n",
      "|La  |6468 |\n",
      "|no  |6005 |\n",
      "|Love|5738 |\n",
      "|for |4077 |\n",
      "|My  |4046 |\n",
      "|I   |3889 |\n",
      "|El  |3754 |\n",
      "|la  |3695 |\n",
      "|Man |3459 |\n",
      "|Life|3312 |\n",
      "|on  |3277 |\n",
      "+----+-----+\n",
      "only showing top 20 rows\n",
      "\n"
     ]
    }
   ],
   "source": [
    "spark.sql(\"\"\"\n",
    "SELECT word, count(*) as c\n",
    "FROM (\n",
    "SELECT explode(words) as word\n",
    "FROM (\n",
    "SELECT explode(sentences(primarytitle)) as words\n",
    "from imdb\n",
    "WHERE titletype = 'movie'\n",
    "))\n",
    "GROUP BY word\n",
    "ORDER BY c DESC\n",
    "\"\"\").show(truncate=False)"
   ]
  },
  {
   "cell_type": "markdown",
   "metadata": {},
   "source": [
    "#### Showing movies with 'Man' in the title as an example"
   ]
  },
  {
   "cell_type": "code",
   "execution_count": 58,
   "metadata": {},
   "outputs": [
    {
     "name": "stdout",
     "output_type": "stream",
     "text": [
      "+---------+-------------+--------------------+--------------------+-------+--------+--------------------+--------------------+--------------+---------+---------+--------------------+\n",
      "|   tconst|averagerating|           directors|              genres|isadult|numvotes|        primarytitle|       principalcast|runtimeminutes|startyear|titletype|             writers|\n",
      "+---------+-------------+--------------------+--------------------+-------+--------+--------------------+--------------------+--------------+---------+---------+--------------------+\n",
      "|tt3243882|         null|           nm0029607|               Adult|  false|    null|Lexington: The Ma...|nm2613011,nm14524...|          null|   2013.0|    video|                null|\n",
      "|tt0061948|          6.3|           nm0303227|               Drama|  false|    45.0|     The Man Outside|nm0312350,nm00939...|          97.0|   1967.0|    movie|nm0093972,nm03032...|\n",
      "|tt0416955|         null|                null|               Short|  false|    null|   Man Couchee Dance|           nm0002615|          null|   1903.0|    short|                null|\n",
      "|tt0001856|          4.7|           nm0000428|         Drama,Short|  false|    22.0|The Revenue Man a...|nm0041858,nm09220...|          17.0|   1911.0|    short|                null|\n",
      "|tt2914260|         null|nm5250862,nm38617...| Action,Drama,Sci-Fi|  false|    null|            Man Down|nm0593330,nm44133...|          null|   2017.0|tvEpisode|           nm4163224|\n",
      "|tt1274516|         null|           nm0292545|              Comedy|  false|    null|    Man and Superman|nm0292545,nm06078...|          null|   1982.0|tvEpisode| nm0177379,nm0607878|\n",
      "|tt3458096|         null|                null|              Comedy|  false|    null|Jeff Violates the...|           nm2316976|          null|   2011.0|tvEpisode|                null|\n",
      "|tt0588235|          8.1|           nm0448946|              Comedy|  false|     9.0|A Man in Nell's Room|nm0480048,nm03766...|          null|   1981.0|tvEpisode|nm0103468,nm06620...|\n",
      "|tt0093489|          5.9|           nm0159402|Action,Drama,Thri...|  false|  1334.0|         Man on Fire|nm0586969,nm00068...|          92.0|   1987.0|    movie|nm0704031,nm01594...|\n",
      "|tt0221373|         null|           nm0143900|         Crime,Drama|  false|    null|Man Who Couldn't ...|nm0540025,nm01439...|          65.0|   1960.0|    movie|           nm0540025|\n",
      "|tt3799474|         null|           nm3975759|              Action|  false|    null|          Mega Man 2|           nm3975759|          25.0|   2014.0|tvEpisode|           nm3975759|\n",
      "|tt0009342|         null|           nm0949648|           Drama,War|  false|    null|The Man Who Would...|nm0817291,nm05806...|          null|   1918.0|    movie|           nm0580648|\n",
      "|tt2304689|          6.6|                null|Biography,Documen...|  false|    23.0|J. Edgar: The Mos...|nm0085257,nm04003...|          19.0|   2012.0|    video|                null|\n",
      "|tt1402295|         null|           nm2259562| Documentary,History|  false|    null|Richard Serra: Ma...|nm2259562,nm43035...|          null|   2008.0|tvEpisode|                null|\n",
      "|tt0403265|         null|           nm0577734| Drama,Short,Western|  false|    null|    A Man Worthwhile|nm0102799,nm08224...|          null|   1912.0|    short|                null|\n",
      "|tt6031674|         null|           nm0366755|         Documentary|  false|    null|Kurt Vonnegut's A...|nm0366755,nm09033...|          null|   2017.0|    movie| nm0366755,nm0903361|\n",
      "|tt3713998|         null|                null|         Crime,Drama|  false|    null|An Old Man Who Ma...|           nm6423755|          null|   2006.0|tvEpisode|                null|\n",
      "|tt0029206|          6.1|           nm0547446|       Drama,Romance|  false|    50.0|   Man of the People|nm0337013,nm03723...|          81.0|   1937.0|    movie|           nm0230776|\n",
      "|tt5685008|         null|           nm7422230|Comedy,Game-Show,...|  false|    null|Man Attempts Suic...|nm7422230,nm36678...|          null|   2016.0|tvEpisode| nm7422230,nm4404522|\n",
      "|tt0350322|         null|           nm0381936|        Comedy,Short|  false|    null|  Wild Man for a Day|nm0381936,nm01290...|          null|   1913.0|    short|                null|\n",
      "+---------+-------------+--------------------+--------------------+-------+--------+--------------------+--------------------+--------------+---------+---------+--------------------+\n",
      "only showing top 20 rows\n",
      "\n"
     ]
    }
   ],
   "source": [
    "spark.sql(\"\"\"\n",
    "SELECT *\n",
    "FROM imdb\n",
    "WHERE primarytitle LIKE '%Man %'\n",
    "\"\"\").show()"
   ]
  },
  {
   "cell_type": "markdown",
   "metadata": {},
   "source": [
    "### Can we group users into profiles based on their rating history?"
   ]
  },
  {
   "cell_type": "markdown",
   "metadata": {},
   "source": [
    "#### Join ratings to the imdb dataset via the links table"
   ]
  },
  {
   "cell_type": "code",
   "execution_count": 116,
   "metadata": {
    "scrolled": true
   },
   "outputs": [
    {
     "name": "stdout",
     "output_type": "stream",
     "text": [
      "+------+------+--------------------+\n",
      "|rating|userid|              genres|\n",
      "+------+------+--------------------+\n",
      "|   3.0|  3284|       Drama,Romance|\n",
      "|   3.5|  1568|       Drama,Romance|\n",
      "|   3.5|  2309|       Drama,Romance|\n",
      "|   4.5|  4276|       Drama,Romance|\n",
      "|   4.5|  1966|       Drama,Romance|\n",
      "|   5.0|  2762|Adventure,Drama,R...|\n",
      "|   4.0|  3768|Adventure,Drama,R...|\n",
      "|   3.0|  5832|Adventure,Drama,R...|\n",
      "|   5.0|   741|Adventure,Drama,R...|\n",
      "|   3.0|  6709|Adventure,Drama,R...|\n",
      "|   3.0|   104|Adventure,Drama,R...|\n",
      "|   4.5|  2469|Adventure,Drama,R...|\n",
      "|   4.5|  1746|Adventure,Drama,R...|\n",
      "|   2.5|  6373|Adventure,Drama,R...|\n",
      "|   3.0|  4973|Adventure,Drama,R...|\n",
      "|   5.0|  4222|Adventure,Drama,R...|\n",
      "|   4.5|  4486|Adventure,Drama,R...|\n",
      "|   4.5|  1515|Adventure,Drama,R...|\n",
      "|   5.0|  1140|Adventure,Drama,R...|\n",
      "|   4.0|  3625|Adventure,Drama,R...|\n",
      "+------+------+--------------------+\n",
      "only showing top 20 rows\n",
      "\n"
     ]
    }
   ],
   "source": [
    "user_profiles = spark.sql(\"\"\"\n",
    "SELECT ratings.rating, ratings.userid, imdb.genres\n",
    "FROM links\n",
    "JOIN ratings ON links.movieid = ratings.movieid\n",
    "JOIN imdb ON CAST(substr(imdb.tconst, 3) as INT) = links.imbdid\n",
    "\"\"\").persist()\n",
    "user_profiles.show()"
   ]
  },
  {
   "cell_type": "code",
   "execution_count": 28,
   "metadata": {},
   "outputs": [],
   "source": [
    "user_profiles.registerTempTable(\"user_profiles\")"
   ]
  },
  {
   "cell_type": "markdown",
   "metadata": {},
   "source": [
    "#### Make one line per rating-genre instead of per rating-movie by expanding out each row to be 1 row per genre within that movie"
   ]
  },
  {
   "cell_type": "code",
   "execution_count": 47,
   "metadata": {},
   "outputs": [],
   "source": [
    "user_profiles_genre = spark.sql(\"\"\"\n",
    "SELECT userid, rating, explode(split(genres, ',')) as genre\n",
    "FROM user_profiles\n",
    "\"\"\")\n",
    "user_profiles_genre.registerTempTable(\"user_profiles_genre\")"
   ]
  },
  {
   "cell_type": "code",
   "execution_count": 46,
   "metadata": {
    "scrolled": true
   },
   "outputs": [
    {
     "name": "stdout",
     "output_type": "stream",
     "text": [
      "+------+------+-------+\n",
      "|userid|rating|  genre|\n",
      "+------+------+-------+\n",
      "|  3284|   3.0|  Drama|\n",
      "|  3284|   3.0|Romance|\n",
      "|  1568|   3.5|  Drama|\n",
      "|  1568|   3.5|Romance|\n",
      "|  2309|   3.5|  Drama|\n",
      "+------+------+-------+\n",
      "only showing top 5 rows\n",
      "\n"
     ]
    }
   ],
   "source": [
    "user_profiles_genre.show(5)"
   ]
  },
  {
   "cell_type": "markdown",
   "metadata": {},
   "source": [
    "#### Get top 10 genres"
   ]
  },
  {
   "cell_type": "code",
   "execution_count": 119,
   "metadata": {},
   "outputs": [
    {
     "name": "stdout",
     "output_type": "stream",
     "text": [
      "+---------+------+\n",
      "|    genre| count|\n",
      "+---------+------+\n",
      "|    Drama|494668|\n",
      "|   Comedy|367723|\n",
      "|   Action|252796|\n",
      "|Adventure|249086|\n",
      "|    Crime|192021|\n",
      "|  Romance|158370|\n",
      "| Thriller|153041|\n",
      "|   Sci-Fi|115751|\n",
      "|  Fantasy|104204|\n",
      "|  Mystery| 81931|\n",
      "+---------+------+\n",
      "\n"
     ]
    }
   ],
   "source": [
    "top_genres = spark.sql(\"\"\"\n",
    "SELECT genre, count(*) as count\n",
    "FROM user_profiles_genre\n",
    "GROUP BY genre\n",
    "ORDER by count DESC\n",
    "LIMIT 10\n",
    "\"\"\").persist()\n",
    "top_genres.registerTempTable(\"top_genres\")\n",
    "top_genres.show()"
   ]
  },
  {
   "cell_type": "markdown",
   "metadata": {},
   "source": [
    "#### Filter out the user ratings for only the top 10 genres"
   ]
  },
  {
   "cell_type": "code",
   "execution_count": 53,
   "metadata": {},
   "outputs": [
    {
     "data": {
      "text/plain": [
       "2169591"
      ]
     },
     "execution_count": 53,
     "metadata": {},
     "output_type": "execute_result"
    }
   ],
   "source": [
    "user_profiles_genre_top_10 = spark.sql(\"\"\"\n",
    "SELECT user_profiles_genre.*\n",
    "FROM user_profiles_genre\n",
    "JOIN top_genres ON top_genres.genre = user_profiles_genre.genre\n",
    "\"\"\").persist()\n",
    "user_profiles_genre_top_10.registerTempTable(\"user_profiles_genre_top_10\")\n",
    "user_profiles_genre_top_10.count()"
   ]
  },
  {
   "cell_type": "code",
   "execution_count": 58,
   "metadata": {},
   "outputs": [
    {
     "name": "stdout",
     "output_type": "stream",
     "text": [
      "+------+------+-------+\n",
      "|userid|rating|  genre|\n",
      "+------+------+-------+\n",
      "|  3284|   3.0|  Drama|\n",
      "|  3284|   3.0|Romance|\n",
      "|  1568|   3.5|  Drama|\n",
      "|  1568|   3.5|Romance|\n",
      "|  2309|   3.5|  Drama|\n",
      "+------+------+-------+\n",
      "only showing top 5 rows\n",
      "\n"
     ]
    }
   ],
   "source": [
    "user_profiles_genre_top_10.show(5)"
   ]
  },
  {
   "cell_type": "markdown",
   "metadata": {},
   "source": [
    "#### Get average rating per genre"
   ]
  },
  {
   "cell_type": "code",
   "execution_count": 63,
   "metadata": {},
   "outputs": [
    {
     "name": "stdout",
     "output_type": "stream",
     "text": [
      "+------+---------+------------------+\n",
      "|userid|    genre|            rating|\n",
      "+------+---------+------------------+\n",
      "|  1568|    Drama|3.4171779141104293|\n",
      "|  4222|Adventure|3.9038461538461537|\n",
      "|  1135|   Comedy|3.2447257383966246|\n",
      "|  2005|Adventure| 3.423469387755102|\n",
      "|   471|   Comedy| 3.315934065934066|\n",
      "+------+---------+------------------+\n",
      "only showing top 5 rows\n",
      "\n"
     ]
    }
   ],
   "source": [
    "user_average_rating_per_genre = spark.sql(\"\"\"\n",
    "SELECT userid, genre, avg(rating) as rating\n",
    "FROM user_profiles_genre_top_10\n",
    "GROUP BY userid, genre\n",
    "\"\"\").persist()\n",
    "user_average_rating_per_genre.registerTempTable(\"user_average_rating_per_genre\")\n",
    "user_average_rating_per_genre.show(5)"
   ]
  },
  {
   "cell_type": "markdown",
   "metadata": {},
   "source": [
    "#### Make an array where each value is the average rating for a specific genre for that user. If the user didn't rate a genre, set it to 2.5"
   ]
  },
  {
   "cell_type": "code",
   "execution_count": 105,
   "metadata": {},
   "outputs": [
    {
     "data": {
      "text/plain": [
       "6743"
      ]
     },
     "execution_count": 105,
     "metadata": {},
     "output_type": "execute_result"
    }
   ],
   "source": [
    "user_features = spark.sql(\"\"\"\n",
    "SELECT userid\n",
    "  ,array( MAX( if(genre = 'Drama', rating, 2.5) )\n",
    "  ,MAX( if(genre = 'Comedy', rating, 2.5) )\n",
    "  ,MAX( if(genre = 'Action', rating, 2.5) )\n",
    "  ,MAX( if(genre = 'Adventure', rating, 2.5) )\n",
    "  ,MAX( if(genre = 'Crime', rating, 2.5) )\n",
    "  ,MAX( if(genre = 'Romance', rating, 2.5) )\n",
    "  ,MAX( if(genre = 'Thriller', rating, 2.5) )\n",
    "  ,MAX( if(genre = 'Sci-Fi', rating, 2.5) )\n",
    "  ,MAX( if(genre = 'Fantasy', rating, 2.5) )\n",
    "  ,MAX( if(genre = 'Mystery', rating, 2.5) )) as array_features\n",
    "FROM user_average_rating_per_genre\n",
    "GROUP BY userid\n",
    "\"\"\").persist()\n",
    "user_features.count()"
   ]
  },
  {
   "cell_type": "code",
   "execution_count": 114,
   "metadata": {},
   "outputs": [
    {
     "name": "stdout",
     "output_type": "stream",
     "text": [
      "+------+--------------------+\n",
      "|userid|      array_features|\n",
      "+------+--------------------+\n",
      "|  2214|[3.08139534883720...|\n",
      "|  1677|[2.75892857142857...|\n",
      "|   474|[4.12121212121212...|\n",
      "|  5409|[4.22222222222222...|\n",
      "|    29|[3.54117647058823...|\n",
      "|   964|[3.75531914893617...|\n",
      "|  1697|[3.44, 3.5, 3.733...|\n",
      "|  2250|[3.36666666666666...|\n",
      "|  4894|[4.46153846153846...|\n",
      "|  4823|[2.675, 3.2155172...|\n",
      "|  3091|[4.0, 3.666666666...|\n",
      "|  3506|[3.75, 2.8, 3.708...|\n",
      "|    26|[3.70967741935483...|\n",
      "|  2040|[3.46666666666666...|\n",
      "|  5556|[3.41666666666666...|\n",
      "|  2509|[4.32142857142857...|\n",
      "|  1806|[3.47777777777777...|\n",
      "|  6721|[3.95, 3.63043478...|\n",
      "|  2927|[4.54545454545454...|\n",
      "|  2529|[3.99186991869918...|\n",
      "+------+--------------------+\n",
      "only showing top 20 rows\n",
      "\n"
     ]
    }
   ],
   "source": [
    "user_features.show()"
   ]
  },
  {
   "cell_type": "markdown",
   "metadata": {},
   "source": [
    "#### Convert the arrays to vectors"
   ]
  },
  {
   "cell_type": "code",
   "execution_count": 106,
   "metadata": {},
   "outputs": [],
   "source": [
    "from pyspark.ml.linalg import Vectors, VectorUDT\n",
    "from pyspark.sql.functions import udf\n",
    "list_to_vector_udf = udf(lambda l: Vectors.dense(l), VectorUDT())\n",
    "user_features_vector = user_features.withColumn(\"features\", list_to_vector_udf(user_features[\"array_features\"])).persist()"
   ]
  },
  {
   "cell_type": "markdown",
   "metadata": {},
   "source": [
    "#### Run K-means to find clusters"
   ]
  },
  {
   "cell_type": "code",
   "execution_count": 109,
   "metadata": {},
   "outputs": [],
   "source": [
    "from pyspark.ml.clustering import KMeans\n",
    "kmeans = KMeans().setK(5).setSeed(1)\n",
    "model = kmeans.fit(user_features_vector)"
   ]
  },
  {
   "cell_type": "code",
   "execution_count": 110,
   "metadata": {},
   "outputs": [
    {
     "data": {
      "text/plain": [
       "[array([ 3.93979085,  3.66221042,  3.60989922,  3.69382825,  3.92316072,\n",
       "         3.74491668,  3.86306208,  3.61497009,  3.6637981 ,  4.0251613 ]),\n",
       " array([ 3.13443769,  2.89136456,  2.80996144,  2.89552402,  3.04036622,\n",
       "         2.97911897,  2.95548942,  2.8200217 ,  2.91326227,  2.93743451]),\n",
       " array([ 3.5970148 ,  3.27293367,  3.18670232,  3.27667175,  3.57371493,\n",
       "         3.37325683,  3.48681869,  3.19204615,  3.26238953,  3.603238  ]),\n",
       " array([ 4.25650413,  4.06026702,  4.12831383,  4.19246469,  4.24075282,\n",
       "         4.13578148,  4.23325178,  4.11196686,  4.19718261,  4.21331062]),\n",
       " array([ 3.76557656,  3.58547697,  3.6613167 ,  3.7716317 ,  3.66067028,\n",
       "         3.64008411,  3.52101257,  3.57330586,  3.75443242,  2.95421596])]"
      ]
     },
     "execution_count": 110,
     "metadata": {},
     "output_type": "execute_result"
    }
   ],
   "source": [
    "model.clusterCenters()"
   ]
  },
  {
   "cell_type": "code",
   "execution_count": null,
   "metadata": {},
   "outputs": [],
   "source": []
  }
 ],
 "metadata": {
  "kernelspec": {
   "display_name": "Python 3",
   "language": "python",
   "name": "python3"
  },
  "language_info": {
   "codemirror_mode": {
    "name": "ipython",
    "version": 3
   },
   "file_extension": ".py",
   "mimetype": "text/x-python",
   "name": "python",
   "nbconvert_exporter": "python",
   "pygments_lexer": "ipython3",
   "version": "3.6.2"
  }
 },
 "nbformat": 4,
 "nbformat_minor": 2
}
